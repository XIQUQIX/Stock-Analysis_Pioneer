{
 "cells": [
  {
   "cell_type": "markdown",
   "id": "a6c5c8cd",
   "metadata": {},
   "source": [
    "## KDJ 当日金叉 死叉"
   ]
  },
  {
   "cell_type": "code",
   "execution_count": 1,
   "id": "5c569d7d",
   "metadata": {},
   "outputs": [],
   "source": [
    "import akshare as ak\n",
    "from datetime import datetime, timedelta\n",
    "from pathlib import Path\n",
    "import pandas as pd\n",
    "from pandas import DataFrame, Series\n",
    "import pickle\n",
    "\n",
    "import common\n",
    "import calculate"
   ]
  },
  {
   "cell_type": "code",
   "execution_count": 2,
   "id": "9a7cf535",
   "metadata": {},
   "outputs": [],
   "source": [
    "file_name = \"./txt_lib/stock_code.txt\"\n",
    "with open(file_name, \"r\") as file:\n",
    "    stock_list = [line.strip() for line in file if line.strip()]\n",
    "\n",
    "# # 限制股票数量\n",
    "# stock_list = stock_list[:150]\n",
    "\n",
    "# all_cross_dates = process_stocks(stock_list)\n",
    "all_cross_dates = common.Final_process_KDJ.process_stocks(stock_list)"
   ]
  },
  {
   "cell_type": "code",
   "execution_count": 3,
   "id": "0ba50232",
   "metadata": {},
   "outputs": [],
   "source": [
    "try:\n",
    "    folder = Path(\"./output/golden_output\")\n",
    "    folder.mkdir()\n",
    "    folder = Path(\"./output/death_output\")\n",
    "    folder.mkdir()\n",
    "    folder = Path(\"./output/操作1.1\")\n",
    "    folder.mkdir()\n",
    "except Exception as e:\n",
    "    pass\n",
    "\n",
    "# 清理两个文件夹\n",
    "common.Final_file.clean_folder(\"./output/death_output\")\n",
    "common.Final_file.clean_folder(\"./output/golden_output\")\n",
    "common.Final_file.clean_folder(\"./output/操作1.1\")\n",
    "common.Final_file.clean_folder(\"./output/操作2\")"
   ]
  },
  {
   "cell_type": "code",
   "execution_count": 4,
   "id": "8af18a48",
   "metadata": {},
   "outputs": [
    {
     "name": "stdout",
     "output_type": "stream",
     "text": [
      "Batch 1/2 completed, memory: 7058.11 MB\n",
      "Batch 2/2 completed, memory: 7058.12 MB\n",
      "Batch 1/1 completed, memory: 7058.14 MB\n"
     ]
    }
   ],
   "source": [
    "# 选出今日金叉list\n",
    "today_gold_cross_list = []\n",
    "for stock_code in all_cross_dates.keys():\n",
    "    if all_cross_dates[stock_code][\"Golden_Cross\"]:\n",
    "        today_gold_cross_list.append(stock_code)\n",
    "\n",
    "# 选出今日死叉list\n",
    "today_death_cross_list = []\n",
    "for stock_code in all_cross_dates.keys():\n",
    "    if all_cross_dates[stock_code][\"Death_Cross\"]:\n",
    "        today_death_cross_list.append(stock_code)\n",
    "\n",
    "# KDJ日金 + MACD 3 条件 → 操作1.1\n",
    "to_perfect_stock_list = []\n",
    "to_perfect_stock_list = common.Final_process.process_stocks(\n",
    "    today_gold_cross_list, mode=\"MACD_2_condition\"\n",
    ")\n",
    "\n",
    "op1_1_today = common.Final_process.process_stocks(to_perfect_stock_list, mode=\"阴线_2cond\")"
   ]
  },
  {
   "cell_type": "code",
   "execution_count": 5,
   "id": "8751894e",
   "metadata": {},
   "outputs": [
    {
     "data": {
      "text/plain": [
       "['sh600256',\n",
       " 'sh600613',\n",
       " 'sh600572',\n",
       " 'sh600479',\n",
       " 'sh600054',\n",
       " 'sh600501',\n",
       " 'sh600079',\n",
       " 'sh600713',\n",
       " 'sh600753',\n",
       " 'sh600774',\n",
       " 'sh603082',\n",
       " 'sh601038',\n",
       " 'sh600838',\n",
       " 'sh600895',\n",
       " 'sh603028',\n",
       " 'sh603066',\n",
       " 'sh603307',\n",
       " 'sh603408',\n",
       " 'sh603508',\n",
       " 'sh603600',\n",
       " 'sh603713',\n",
       " 'sh603755',\n",
       " 'sh603701',\n",
       " 'sh603889',\n",
       " 'sh603969',\n",
       " 'sh603998',\n",
       " 'sh688410',\n",
       " 'sh688351',\n",
       " 'sh688381',\n",
       " 'sh688575',\n",
       " 'sz000597',\n",
       " 'sz000650',\n",
       " 'sz000700',\n",
       " 'sz000915',\n",
       " 'sz001216',\n",
       " 'sz001205',\n",
       " 'sz000798',\n",
       " 'sz001208',\n",
       " 'sz001225',\n",
       " 'sz000917',\n",
       " 'sz002038',\n",
       " 'sz002069',\n",
       " 'sz002198',\n",
       " 'sz002404',\n",
       " 'sz002303',\n",
       " 'sz002158',\n",
       " 'sz002526',\n",
       " 'sz002222',\n",
       " 'sz002559',\n",
       " 'sz002566',\n",
       " 'sz002593',\n",
       " 'sz002614',\n",
       " 'sz002688',\n",
       " 'sz002763',\n",
       " 'sz002817',\n",
       " 'sz002884',\n",
       " 'sz300461',\n",
       " 'sz300126',\n",
       " 'sz300401',\n",
       " 'sz300350',\n",
       " 'sz300267',\n",
       " 'sz300467',\n",
       " 'sz300039',\n",
       " 'sz300518',\n",
       " 'sz300629',\n",
       " 'sz300873',\n",
       " 'sz300884',\n",
       " 'sz300910',\n",
       " 'sz301037',\n",
       " 'sz301591']"
      ]
     },
     "execution_count": 5,
     "metadata": {},
     "output_type": "execute_result"
    }
   ],
   "source": [
    "to_perfect_stock_list"
   ]
  },
  {
   "cell_type": "code",
   "execution_count": 6,
   "id": "184927e9",
   "metadata": {},
   "outputs": [
    {
     "name": "stdout",
     "output_type": "stream",
     "text": [
      "Excel 文件已生成\n",
      "已生成今日金叉 死叉TXT\n"
     ]
    }
   ],
   "source": [
    "# 生成今日金叉 死叉Excel\n",
    "common.Final_file_KDJ.output_excel(all_cross_dates)\n",
    "\n",
    "# 生成今日金叉 死叉TXT\n",
    "print(\"已生成今日金叉 死叉TXT\")\n",
    "today_death_txt_path = \"./output/death_output/today_death_cross.txt\"\n",
    "with open(today_death_txt_path, \"w\") as file:\n",
    "    for item in today_death_cross_list:\n",
    "        file.write(item + \"\\n\")  # 每个元素后加换行符\n",
    "\n",
    "today_gold_txt_path = \"./output/golden_output/today_gold_cross.txt\"\n",
    "with open(today_gold_txt_path, \"w\") as file:\n",
    "    for item in today_gold_cross_list:\n",
    "        file.write(item + \"\\n\")  # 每个元素后加换行符"
   ]
  },
  {
   "cell_type": "markdown",
   "id": "4402a94d",
   "metadata": {},
   "source": [
    "# 按需分流 KDJ日金叉 & KDJ日死叉 代码仓库"
   ]
  },
  {
   "cell_type": "code",
   "execution_count": 7,
   "id": "7170bcb1",
   "metadata": {},
   "outputs": [
    {
     "name": "stdout",
     "output_type": "stream",
     "text": [
      "Processed stock codes saved to ./txt_lib/yest_KDJ日金.txt.\n",
      "Processed stock codes saved to ./txt_lib/yest_KDJ日死.txt.\n"
     ]
    }
   ],
   "source": [
    "def add_capital(input_file: str, output_file: str):\n",
    "    '''给原始股票代码加上抬头; 600001 → sh600001'''\n",
    "    with open(input_file, \"r\") as infile, open(output_file, \"w\") as outfile:\n",
    "        for line in infile:\n",
    "            stock_code = line.strip()\n",
    "            if stock_code.startswith(\"6\"):\n",
    "                processed_code = f\"sh{stock_code}\"\n",
    "            else:\n",
    "                processed_code = f\"sz{stock_code}\"\n",
    "            outfile.write(processed_code + \"\\n\")\n",
    "\n",
    "    print(f\"Processed stock codes saved to {output_file}.\")\n",
    "\n",
    "def copy_yest_txt(input_file: str, output_file: str):\n",
    "    '''复制一份昨日txt 留档'''\n",
    "    with open(input_file, \"r\") as infile, open(output_file, \"w\") as outfile:\n",
    "        for line in infile:\n",
    "            stock_code = line.strip()\n",
    "            outfile.write(stock_code + \"\\n\")\n",
    "    print(f\"Processed stock codes saved to {output_file}.\")\n",
    "\n",
    "\n",
    "dict_filename = \"./txt_lib/stock_name.txt\"\n",
    "stock_dict = common.Initialization.generate_stock_dict(dict_filename)\n",
    "\n",
    "input_file = \"./txt_lib/KDJ日金.txt\"\n",
    "output_file = \"./txt_lib/yest_KDJ日金.txt\"\n",
    "copy_yest_txt(input_file,output_file)\n",
    "input_file = \"./txt_lib/KDJ日死.txt\"\n",
    "output_file = \"./txt_lib/yest_KDJ日死.txt\"\n",
    "copy_yest_txt(input_file, output_file)\n",
    "\n",
    "# 清理两个文件夹\n",
    "common.Final_file.clean_folder(\"./output/KDJ日金\")\n",
    "common.Final_file.clean_folder(\"./output/KDJ日死\")\n",
    "common.Final_file.clean_folder(\"./output/KDJ8\")"
   ]
  },
  {
   "cell_type": "code",
   "execution_count": 8,
   "id": "bf974af6",
   "metadata": {},
   "outputs": [
    {
     "name": "stdout",
     "output_type": "stream",
     "text": [
      "Processed stock codes saved to ./txt_lib/processed_KDJ日金.txt.\n",
      "Batch 1/3 completed, memory: 7058.78 MB\n",
      "Batch 2/3 completed, memory: 7058.80 MB\n",
      "Batch 3/3 completed, memory: 7058.79 MB\n",
      "Batch 1/3 completed, memory: 7058.77 MB\n",
      "Batch 2/3 completed, memory: 7058.79 MB\n",
      "Batch 3/3 completed, memory: 7058.78 MB\n",
      "Batch 1/3 completed, memory: 7058.78 MB\n",
      "Batch 2/3 completed, memory: 7058.78 MB\n",
      "Batch 3/3 completed, memory: 7058.78 MB\n"
     ]
    }
   ],
   "source": [
    "## 处理 KDJ日金 + 周死叉 → 弃\n",
    "# 读取原始文件并处理\n",
    "input_file = \"./txt_lib/KDJ日金.txt\"\n",
    "output_file = \"./txt_lib/processed_KDJ日金.txt\"\n",
    "add_capital(input_file, output_file)\n",
    "\n",
    "file_name = output_file\n",
    "with open(file_name, \"r\") as file:\n",
    "    gold_stock_list = [line.strip() for line in file if line.strip()]\n",
    "\n",
    "gold_to_del_stock_list = []\n",
    "gold_to_del_week_death = common.Final_process.process_stocks(gold_stock_list, mode=\"week_death\")\n",
    "\n",
    "## 处理 KDJ日金 + macd < 0 → 弃\n",
    "\n",
    "gold_macd_below0 = []\n",
    "gold_macd_below0 = common.Final_process.process_stocks(gold_stock_list, mode=\"macd < 0\")\n",
    "\n",
    "## 处理 KDJ日金 + J < K → 弃\n",
    "gold_J_K = []\n",
    "gold_J_K = common.Final_process.process_stocks(gold_stock_list, mode=\"J_K\")\n",
    "\n",
    "# 把选出股票加入 to_del 数组中\n",
    "gold_to_del_stock_list = gold_to_del_week_death + gold_macd_below0 + gold_J_K"
   ]
  },
  {
   "cell_type": "code",
   "execution_count": 9,
   "id": "a889ad79",
   "metadata": {},
   "outputs": [
    {
     "name": "stdout",
     "output_type": "stream",
     "text": [
      "Processed stock codes saved to ./txt_lib/processed_KDJ日死.txt.\n",
      "Batch 1/7 completed, memory: 7058.79 MB\n",
      "Batch 2/7 completed, memory: 7058.79 MB\n",
      "Batch 3/7 completed, memory: 7058.79 MB\n",
      "Batch 4/7 completed, memory: 7058.79 MB\n",
      "Batch 5/7 completed, memory: 7058.79 MB\n",
      "Batch 6/7 completed, memory: 7058.79 MB\n",
      "Batch 7/7 completed, memory: 7058.79 MB\n",
      "Batch 1/7 completed, memory: 7058.79 MB\n",
      "Batch 2/7 completed, memory: 7058.79 MB\n",
      "Batch 3/7 completed, memory: 7058.56 MB\n",
      "Batch 4/7 completed, memory: 6499.71 MB\n",
      "Batch 5/7 completed, memory: 6511.60 MB\n",
      "Batch 6/7 completed, memory: 6523.22 MB\n",
      "Batch 7/7 completed, memory: 6515.84 MB\n"
     ]
    }
   ],
   "source": [
    "## 处理 KDJ日死 + 周死叉 → 弃\n",
    "# 读取原始文件并处理\n",
    "input_file = \"./txt_lib/KDJ日死.txt\"\n",
    "output_file = \"./txt_lib/processed_KDJ日死.txt\"\n",
    "add_capital(input_file, output_file)\n",
    "\n",
    "file_name = output_file\n",
    "with open(file_name, \"r\") as file:\n",
    "    death_stock_list = [line.strip() for line in file if line.strip()]\n",
    "\n",
    "# 周死叉\n",
    "death_week_death = []\n",
    "death_week_death = common.Final_process.process_stocks(death_stock_list, mode=\"week_death\")\n",
    "\n",
    "# 当日处于金叉阶段\n",
    "death_day_golden = []\n",
    "death_day_golden = common.Final_process.process_stocks(\n",
    "    death_stock_list, mode=\"day_golden\"\n",
    ")\n",
    "\n",
    "# 合并要删除的list\n",
    "death_to_del_stock_list = []\n",
    "death_to_del_stock_list = death_week_death + death_day_golden"
   ]
  },
  {
   "cell_type": "code",
   "execution_count": 10,
   "id": "a437c572",
   "metadata": {},
   "outputs": [
    {
     "name": "stdout",
     "output_type": "stream",
     "text": [
      "Batch 1/3 completed, memory: 6525.70 MB\n",
      "Batch 2/3 completed, memory: 6536.61 MB\n",
      "Batch 3/3 completed, memory: 6542.73 MB\n"
     ]
    }
   ],
   "source": [
    "## 处理 KDJ日金 + 日死 → KDJ日死\n",
    "gold_to_move_day_death_stock_list = []\n",
    "gold_to_move_day_death_stock_list = common.Final_process.process_stocks(gold_stock_list, mode=\"daily_death\")"
   ]
  },
  {
   "cell_type": "code",
   "execution_count": 11,
   "id": "55d22d67",
   "metadata": {},
   "outputs": [
    {
     "name": "stdout",
     "output_type": "stream",
     "text": [
      "Batch 1/3 completed, memory: 6542.75 MB\n",
      "Batch 2/3 completed, memory: 6542.75 MB\n",
      "Batch 3/3 completed, memory: 6542.75 MB\n"
     ]
    }
   ],
   "source": [
    "## 处理 KDJ日金 + J线拐头 → KDJ8\n",
    "gold_to_move_8_stock_list = []\n",
    "gold_to_move_8_stock_list = common.Final_process.process_stocks(\n",
    "    gold_stock_list, mode=\"J_turn_around\"\n",
    ")"
   ]
  },
  {
   "cell_type": "code",
   "execution_count": 12,
   "id": "e5780921",
   "metadata": {},
   "outputs": [],
   "source": [
    "# ## KDJ日死 + Bol: 前次碰上轨，今日碰下轨 → 操作2\n",
    "# death_to_op2_list = []\n",
    "# death_to_op2_list = common.Final_process.process_stocks(death_stock_list, mode=\"bol_lower\")"
   ]
  },
  {
   "cell_type": "markdown",
   "id": "988f3215",
   "metadata": {},
   "source": [
    "# 图片 Excel生成"
   ]
  },
  {
   "cell_type": "code",
   "execution_count": 14,
   "id": "3025d5b8",
   "metadata": {},
   "outputs": [],
   "source": [
    "try:\n",
    "    folder = Path(\"./output\")\n",
    "    folder.mkdir()\n",
    "except Exception as e:\n",
    "    pass\n",
    "\n",
    "try:\n",
    "    folder = Path(\"./output/KDJ日金\")\n",
    "    folder.mkdir()\n",
    "    folder = Path(\"./output/KDJ日死\")\n",
    "    folder.mkdir()\n",
    "    folder = Path(\"./output/KDJ8\")\n",
    "    folder.mkdir()\n",
    "    folder = Path(\"./output/操作1.1\")\n",
    "    folder.mkdir()\n",
    "    folder = Path(\"./output/操作2\")\n",
    "    folder.mkdir()\n",
    "except Exception as e:\n",
    "    pass"
   ]
  },
  {
   "cell_type": "code",
   "execution_count": 15,
   "id": "14b6e7b1",
   "metadata": {},
   "outputs": [
    {
     "name": "stdout",
     "output_type": "stream",
     "text": [
      "Excel 文件已生成: ./output/KDJ日金/KDJ日金.xlsx\n",
      "所有图片已生成！\n"
     ]
    }
   ],
   "source": [
    "# 今日金叉数据\n",
    "today_gold_txt_path = \"./output/golden_output/today_gold_cross.txt\"\n",
    "today_gold_list = []\n",
    "with open(today_gold_txt_path, \"r\") as file:\n",
    "    for line in file:\n",
    "        stock_code = line.strip()\n",
    "        today_gold_list.append(stock_code)\n",
    "\n",
    "# KDJ日金 文件生成\n",
    "kdj_res = []\n",
    "for stock_code in gold_stock_list:\n",
    "    condition1 = stock_code not in gold_to_del_stock_list # 周死\n",
    "    condition2 = stock_code not in gold_to_move_day_death_stock_list # 日死\n",
    "    condition3 = stock_code not in gold_to_move_8_stock_list #拐头\n",
    "    if condition1 and condition2 and condition3:\n",
    "        kdj_res.append(stock_code)\n",
    "\n",
    "# 加入今日金叉数据\n",
    "for stock_code in today_gold_list:\n",
    "    if stock_code not in kdj_res:\n",
    "        kdj_res.append(stock_code)\n",
    "\n",
    "output_file = './output/KDJ日金/KDJ日金.xlsx'\n",
    "common.Final_file.output_excel(kdj_res,output_file,condition='日金')\n",
    "common.Final_file.mk_pic(output_file)  # 生成所有图片"
   ]
  },
  {
   "cell_type": "code",
   "execution_count": 16,
   "id": "576261bc",
   "metadata": {},
   "outputs": [
    {
     "name": "stdout",
     "output_type": "stream",
     "text": [
      "Processed stock codes saved to ./txt_lib/KDJ日金.txt.\n"
     ]
    }
   ],
   "source": [
    "# 覆写KDJ日金txt\n",
    "output_file = \"./txt_lib/KDJ日金.txt\"\n",
    "with open(output_file, \"w\") as outfile1:\n",
    "    for stock_code in kdj_res:\n",
    "        processed_code = stock_code[2:]\n",
    "        outfile1.write(processed_code + \"\\n\")\n",
    "\n",
    "print(f\"Processed stock codes saved to {output_file}.\")"
   ]
  },
  {
   "cell_type": "code",
   "execution_count": 17,
   "id": "88e37e36",
   "metadata": {},
   "outputs": [
    {
     "name": "stdout",
     "output_type": "stream",
     "text": [
      "Batch 1/2 completed, memory: 6590.32 MB\n",
      "Batch 2/2 completed, memory: 6597.21 MB\n",
      "Batch 1/2 completed, memory: 6597.21 MB\n",
      "Batch 2/2 completed, memory: 6597.21 MB\n",
      "Excel 文件已生成: ./output/KDJ8/KDJ8.xlsx\n",
      "所有图片已生成！\n",
      "今日KDJ8 txt文件已生成。\n"
     ]
    }
   ],
   "source": [
    "# KDJ8 文件生成\n",
    "\n",
    "# 读取昨日kdj8 txt\n",
    "yest_kdj8_list = []\n",
    "yest_kdj8_path = \"./txt_lib/today_kdj8.txt\"\n",
    "with open(yest_kdj8_path, \"r\") as file:\n",
    "    for line in file:\n",
    "        stock_code = line.strip()\n",
    "        if stock_code.startswith(\"6\"):\n",
    "            processed_code = f\"sh{stock_code}\"\n",
    "        elif stock_code.startswith(\"0\"):\n",
    "            processed_code = f\"sz{stock_code}\"\n",
    "        else:\n",
    "            processed_code = stock_code\n",
    "        yest_kdj8_list.append(processed_code)\n",
    "\n",
    "# 筛出日死代码\n",
    "kdj8_to_move_day_death_stock_list = []\n",
    "kdj8_to_move_day_death_stock_list = common.Final_process.process_stocks(\n",
    "    yest_kdj8_list, mode=\"daily_death\"\n",
    ")\n",
    "\n",
    "# 筛出周死代码\n",
    "kdj8_to_del_stock_list = []\n",
    "kdj8_to_del_stock_list = common.Final_process.process_stocks(\n",
    "    yest_kdj8_list, mode=\"week_death\"\n",
    ")\n",
    "\n",
    "today_kdj8 = []\n",
    "\n",
    "for stock_code in yest_kdj8_list:\n",
    "    condition1 = stock_code not in kdj8_to_del_stock_list # 周死\n",
    "    condition2 = stock_code not in kdj8_to_move_day_death_stock_list # 日死\n",
    "    condition3 = stock_code not in gold_to_move_8_stock_list # 今日\n",
    "    if condition1 and condition2 and condition3:\n",
    "        today_kdj8.append(stock_code)\n",
    "\n",
    "today_kdj8 += gold_to_move_8_stock_list\n",
    "res = [item for item in today_kdj8 if isinstance(item, str)]\n",
    "\n",
    "# 最终输出\n",
    "output_file = \"./output/KDJ8/KDJ8.xlsx\"\n",
    "common.Final_file.output_excel(today_kdj8, output_file, condition=\"8\")\n",
    "common.Final_file.mk_pic(output_file)  # 生成所有图片\n",
    "\n",
    "# 生成今日 KDJ8 TXT\n",
    "today_kdj8_txt_path = \"./txt_lib/today_kdj8.txt\"\n",
    "with open(today_kdj8_txt_path, \"w\") as file:\n",
    "    for item in res:\n",
    "        file.write(item + \"\\n\")  # 每个元素后加换行符\n",
    "\n",
    "print(\"今日KDJ8 txt文件已生成。\")"
   ]
  },
  {
   "cell_type": "code",
   "execution_count": 18,
   "id": "afcd8f32",
   "metadata": {},
   "outputs": [
    {
     "name": "stdout",
     "output_type": "stream",
     "text": [
      "Excel 文件已生成: ./output/KDJ日死/KDJ日死.xlsx\n",
      "所有图片已生成！\n"
     ]
    }
   ],
   "source": [
    "# KDJ日死 文件生成\n",
    "kdj_death = []\n",
    "\n",
    "# 今日死叉数据\n",
    "today_death_txt_path = \"./output/death_output/today_death_cross.txt\"\n",
    "today_death_list = []\n",
    "with open(today_death_txt_path, \"r\") as file:\n",
    "    for line in file:\n",
    "        stock_code = line.strip()\n",
    "        today_death_list.append(stock_code)\n",
    "\n",
    "for stock_code in death_stock_list:\n",
    "    condition1 = stock_code not in death_to_del_stock_list\n",
    "    # condition2 = stock_code not in death_to_op2_list\n",
    "    if condition1:\n",
    "        kdj_death.append(stock_code)\n",
    "\n",
    "# 加入今日死叉数据\n",
    "for stock_code in today_death_list:\n",
    "    if stock_code not in kdj_death:\n",
    "        kdj_death.append(stock_code)\n",
    "        \n",
    "# 加入今日kdj8日死数据\n",
    "for stock_code in kdj8_to_move_day_death_stock_list:\n",
    "    if stock_code not in kdj_death:\n",
    "        kdj_death.append(stock_code)\n",
    "\n",
    "output_file = \"./output/KDJ日死/KDJ日死.xlsx\"\n",
    "common.Final_file.output_excel(kdj_death, output_file, condition=\"日死\")\n",
    "common.Final_file.mk_pic(output_file)  # 生成所有图片"
   ]
  },
  {
   "cell_type": "markdown",
   "id": "e43eb467",
   "metadata": {},
   "source": [
    "## 操作2"
   ]
  },
  {
   "cell_type": "code",
   "execution_count": null,
   "id": "f0f9617f",
   "metadata": {},
   "outputs": [
    {
     "name": "stdout",
     "output_type": "stream",
     "text": [
      "Batch 1/7 completed, memory: 6599.70 MB\n",
      "Batch 2/7 completed, memory: 6599.69 MB\n",
      "Batch 3/7 completed, memory: 6599.69 MB\n",
      "Batch 4/7 completed, memory: 6599.68 MB\n",
      "Batch 5/7 completed, memory: 6599.70 MB\n",
      "Batch 6/7 completed, memory: 6599.70 MB\n",
      "Batch 7/7 completed, memory: 6599.73 MB\n"
     ]
    }
   ],
   "source": [
    "# # KDJ日死 + 今日是第二根阴线 + 日MACD > 0 + '第三日'创最近十日新高 + 最近两天不能碰中轨 → 操作2\n",
    "# op2_3 = []\n",
    "# op2_3 = common.Final_process.process_stocks(kdj_death, mode=\"op2_3\")"
   ]
  },
  {
   "cell_type": "code",
   "execution_count": null,
   "id": "c679d012",
   "metadata": {},
   "outputs": [
    {
     "name": "stdout",
     "output_type": "stream",
     "text": [
      "Batch 1/7 completed, memory: 6553.70 MB\n",
      "Batch 2/7 completed, memory: 6564.05 MB\n",
      "Batch 3/7 completed, memory: 6575.77 MB\n",
      "Batch 4/7 completed, memory: 6577.75 MB\n",
      "Batch 5/7 completed, memory: 6577.76 MB\n",
      "Batch 6/7 completed, memory: 6577.82 MB\n",
      "Batch 7/7 completed, memory: 6577.82 MB\n"
     ]
    }
   ],
   "source": [
    "# 1. \n",
    "\n",
    "# abs((今日最低价 - 中轨) / (上轨 - 中轨)) < 12% \n",
    "\n",
    "#     + abs((max(开盘价,收盘价) - 上轨) / (上轨 - 中轨)) > 50% \n",
    "\n",
    "#     or\n",
    "\n",
    "#     abs((今日最低价 - 下轨) / (中轨 - 下轨)) <12% \n",
    "    \n",
    "#     + abs((max(开盘价,收盘价) - 中轨) / (中轨 - 下轨)) > 50%\n",
    "\n",
    "# 2. J今日- J昨日 > 0 + 第一次\n",
    "\n",
    "# 3. 周bol 中轨 本周 >= 上周\n",
    "\n",
    "# 4. DIF > 0\n",
    "death_near_gold_list = []\n",
    "death_near_gold_list = common.Final_process.process_stocks(\n",
    "    kdj_death, mode=\"kdj_near_gold\"\n",
    ")"
   ]
  },
  {
   "cell_type": "code",
   "execution_count": null,
   "id": "d5febd49",
   "metadata": {},
   "outputs": [
    {
     "name": "stdout",
     "output_type": "stream",
     "text": [
      "Batch 1/1 completed, memory: 6599.72 MB\n",
      "Batch 1/1 completed, memory: 6617.77 MB\n",
      "Excel 文件已生成: ./output/操作2/操作2.xlsx\n",
      "所有图片已生成！\n"
     ]
    }
   ],
   "source": [
    "# 输出操作2 Excel 图片\n",
    "op2 = []\n",
    "# op2 = death_to_op2_list + death_near_gold_list + op2_3\n",
    "# op2 = death_near_gold_list + op2_3\n",
    "op2 = death_near_gold_list\n",
    "\n",
    "# 当日没有碰上轨\n",
    "final_list = []\n",
    "final_list = common.Final_process.process_stocks(op2, mode=\"not_touch_upper\")\n",
    "\n",
    "# 利润 > 0 -> 保留\n",
    "# 利润 < 0 + 周&月macd dif > 0 -> 保留\n",
    "profit_list = []\n",
    "profit_list = common.Final_process.process_stocks(final_list, mode=\"profit_check\")\n",
    "\n",
    "output_file = \"./output/操作2/操作2.xlsx\"\n",
    "common.Final_file.output_excel(profit_list, output_file, condition=\"bol\")\n",
    "common.Final_file.mk_pic(output_file)  # 生成所有图片"
   ]
  },
  {
   "cell_type": "code",
   "execution_count": 21,
   "id": "e559394a",
   "metadata": {},
   "outputs": [
    {
     "name": "stdout",
     "output_type": "stream",
     "text": [
      "Processed stock codes saved to ./txt_lib/KDJ日死.txt.\n"
     ]
    }
   ],
   "source": [
    "# 覆写KDJ日死txt\n",
    "output_file = \"./txt_lib/KDJ日死.txt\"\n",
    "with open(output_file, \"w\") as outfile1:\n",
    "    for stock_code in kdj_death:\n",
    "        processed_code = stock_code[2:]\n",
    "        outfile1.write(processed_code + \"\\n\")\n",
    "\n",
    "print(f\"Processed stock codes saved to {output_file}.\")"
   ]
  },
  {
   "cell_type": "markdown",
   "id": "75231615",
   "metadata": {},
   "source": [
    "## 操作1.1"
   ]
  },
  {
   "cell_type": "code",
   "execution_count": 22,
   "id": "266ec6b0",
   "metadata": {},
   "outputs": [],
   "source": [
    "# # KDJ金叉\n",
    "# # 前次碰上轨 + 今日碰中轨 + 昨日最高价 > 今日最高价 → 操作1.1\n",
    "\n",
    "# gold_to_1_1_list = []\n",
    "# gold_to_1_1_list = common.Final_process.process_stocks(kdj_res, mode=\"bol\")"
   ]
  },
  {
   "cell_type": "code",
   "execution_count": 30,
   "id": "cd02baf0",
   "metadata": {},
   "outputs": [
    {
     "name": "stdout",
     "output_type": "stream",
     "text": [
      "Batch 1/3 completed, memory: 8265.56 MB\n",
      "Batch 2/3 completed, memory: 8289.57 MB\n",
      "Batch 3/3 completed, memory: 8293.58 MB\n"
     ]
    }
   ],
   "source": [
    "# 处理 KDJ日金 + 阴线 + 周kdj → 操作1.1\n",
    "# 判断是否今日是第一根阴线 + 周kdj金叉三周内\n",
    "# + 昨日阳线碰Bol上轨 + 今日最高价小于昨日最高价\n",
    "# 弃用\n",
    "\n",
    "# 今日是阴线 + abs(最低价 - 中轨) / 收盘价 < 3% or abs(最低价 -下轨) / 收盘价 < 3%\n",
    "# abs(上轨 - 收盘价) / 收盘价 > 10%  + 周kdj金叉三周内 ———— 周kdj金叉2周内\n",
    "# 两者符合其一\n",
    "\n",
    "op1_1_2cond = []\n",
    "op1_1_2cond = common.Final_process.process_stocks(kdj_res, mode=\"阴线_2cond\")"
   ]
  },
  {
   "cell_type": "code",
   "execution_count": 24,
   "id": "2a7dddbc",
   "metadata": {},
   "outputs": [
    {
     "name": "stdout",
     "output_type": "stream",
     "text": [
      "Excel 文件已生成: ./output/操作1.1/操作1.1.xlsx\n",
      "所有图片已生成！\n"
     ]
    }
   ],
   "source": [
    "# 输出操作1.1 Excel 图片\n",
    "op1_1 = []\n",
    "# op1_1 = to_perfect_stock_list + gold_to_1_1_list + op1_1_cond3\n",
    "op1_1 = set(op1_1_today + op1_1_2cond)\n",
    "output_file = \"./output/操作1.1/操作1.1.xlsx\"\n",
    "\n",
    "common.Final_file.output_excel(op1_1, output_file, condition=\"bol\")\n",
    "common.Final_file.mk_pic(output_file)  # 生成所有图片"
   ]
  },
  {
   "cell_type": "markdown",
   "id": "4492a896",
   "metadata": {},
   "source": [
    "## TEST"
   ]
  },
  {
   "cell_type": "code",
   "execution_count": 29,
   "id": "a600daae",
   "metadata": {},
   "outputs": [
    {
     "data": {
      "text/plain": [
       "<module 'common' from 'd:\\\\stock_info\\\\common.py'>"
      ]
     },
     "execution_count": 29,
     "metadata": {},
     "output_type": "execute_result"
    }
   ],
   "source": [
    "# from importlib import reload\n",
    "# reload(calculate)\n",
    "# reload(common)"
   ]
  },
  {
   "cell_type": "code",
   "execution_count": 26,
   "id": "7f20dbab",
   "metadata": {},
   "outputs": [],
   "source": [
    "stock_code = \"sh688668\"\n",
    "current_date = datetime.now()\n",
    "\n",
    "df = ak.stock_zh_a_daily(\n",
    "    symbol=stock_code,\n",
    "    start_date=\"2015-01-01\",\n",
    "    end_date=current_date.strftime(\"%Y-%m-%d\"),\n",
    ")"
   ]
  },
  {
   "cell_type": "code",
   "execution_count": 27,
   "id": "8336171f",
   "metadata": {},
   "outputs": [],
   "source": [
    "bol_df = calculate.Bol.calculate_bollinger_bands(df)\n",
    "\n",
    "df = calculate.KDJ.calculate_kdj(df)\n",
    "df = calculate.MACD.calculate_macd(df)\n",
    "\n",
    "today_open = df[\"open\"].iloc[-1] # 开\n",
    "today_close = df[\"close\"].iloc[-1] # 收\n",
    "today_low = df[\"low\"].iloc[-1] # 低\n",
    "today_high = df[\"high\"].iloc[-1] # 高\n",
    "today_upper = bol_df[\"BOLL_UPPER\"].iloc[-1] # 下轨\n",
    "today_mid = bol_df[\"BOLL_MID\"].iloc[-1] # 中轨\n",
    "today_lower = bol_df[\"BOLL_LOWER\"].iloc[-1] # 下轨\n",
    "\n",
    "\n",
    "condition5 = today_high < today_upper"
   ]
  }
 ],
 "metadata": {
  "kernelspec": {
   "display_name": "Python 3",
   "language": "python",
   "name": "python3"
  },
  "language_info": {
   "codemirror_mode": {
    "name": "ipython",
    "version": 3
   },
   "file_extension": ".py",
   "mimetype": "text/x-python",
   "name": "python",
   "nbconvert_exporter": "python",
   "pygments_lexer": "ipython3",
   "version": "3.13.1"
  }
 },
 "nbformat": 4,
 "nbformat_minor": 5
}
