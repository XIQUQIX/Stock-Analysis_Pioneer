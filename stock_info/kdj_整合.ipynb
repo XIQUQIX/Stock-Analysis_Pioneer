{
 "cells": [
  {
   "cell_type": "markdown",
   "id": "a6c5c8cd",
   "metadata": {},
   "source": [
    "## KDJ 当日金叉 死叉"
   ]
  },
  {
   "cell_type": "code",
   "execution_count": 1,
   "id": "5c569d7d",
   "metadata": {},
   "outputs": [],
   "source": [
    "import akshare as ak\n",
    "from datetime import datetime, timedelta\n",
    "from pathlib import Path\n",
    "import pandas as pd\n",
    "from pandas import DataFrame, Series\n",
    "import pickle\n",
    "\n",
    "import common\n",
    "import calculate"
   ]
  },
  {
   "cell_type": "code",
   "execution_count": 2,
   "id": "9a7cf535",
   "metadata": {},
   "outputs": [],
   "source": [
    "file_name = \"./txt_lib/stock_code.txt\"\n",
    "with open(file_name, \"r\") as file:\n",
    "    stock_list = [line.strip() for line in file if line.strip()]\n",
    "\n",
    "# # 限制股票数量\n",
    "# stock_list = stock_list[:150]\n",
    "\n",
    "# all_cross_dates = process_stocks(stock_list)\n",
    "all_cross_dates = common.Final_process_KDJ.process_stocks(stock_list)"
   ]
  },
  {
   "cell_type": "code",
   "execution_count": 3,
   "id": "0ba50232",
   "metadata": {},
   "outputs": [],
   "source": [
    "try:\n",
    "    folder = Path(\"./output/golden_output\")\n",
    "    folder.mkdir()\n",
    "    folder = Path(\"./output/death_output\")\n",
    "    folder.mkdir()\n",
    "    folder = Path(\"./output/操作1.1\")\n",
    "    folder.mkdir()\n",
    "except Exception as e:\n",
    "    pass\n",
    "\n",
    "# 清理两个文件夹\n",
    "common.Final_file.clean_folder(\"./output/death_output\")\n",
    "common.Final_file.clean_folder(\"./output/golden_output\")\n",
    "common.Final_file.clean_folder(\"./output/操作1.1\")\n",
    "common.Final_file.clean_folder(\"./output/操作2\")"
   ]
  },
  {
   "cell_type": "code",
   "execution_count": 37,
   "id": "8af18a48",
   "metadata": {},
   "outputs": [
    {
     "name": "stdout",
     "output_type": "stream",
     "text": [
      "Batch 1/2 completed, memory: 8428.88 MB\n",
      "Batch 2/2 completed, memory: 8452.75 MB\n",
      "Batch 1/1 completed, memory: 8455.71 MB\n"
     ]
    }
   ],
   "source": [
    "# 选出今日金叉list\n",
    "today_gold_cross_list = []\n",
    "for stock_code in all_cross_dates.keys():\n",
    "    if all_cross_dates[stock_code][\"Golden_Cross\"]:\n",
    "        today_gold_cross_list.append(stock_code)\n",
    "\n",
    "# 选出今日死叉list\n",
    "today_death_cross_list = []\n",
    "for stock_code in all_cross_dates.keys():\n",
    "    if all_cross_dates[stock_code][\"Death_Cross\"]:\n",
    "        today_death_cross_list.append(stock_code)\n",
    "\n",
    "# KDJ日金 + MACD 3 条件 → 操作1.1\n",
    "to_perfect_stock_list = []\n",
    "to_perfect_stock_list = common.Final_process.process_stocks(\n",
    "    today_gold_cross_list, mode=\"MACD_2_condition\"\n",
    ")\n",
    "\n",
    "op1_1_today = common.Final_process.process_stocks(to_perfect_stock_list, mode=\"阴线_2cond\")"
   ]
  },
  {
   "cell_type": "code",
   "execution_count": 35,
   "id": "8751894e",
   "metadata": {},
   "outputs": [
    {
     "data": {
      "text/plain": [
       "['sh600261',\n",
       " 'sh600059',\n",
       " 'sh600099',\n",
       " 'sh600389',\n",
       " 'sh600834',\n",
       " 'sh600853',\n",
       " 'sh600933',\n",
       " 'sh603082',\n",
       " 'sh601177',\n",
       " 'sh603172',\n",
       " 'sh603111',\n",
       " 'sh603190',\n",
       " 'sh603115',\n",
       " 'sh603189',\n",
       " 'sh603226',\n",
       " 'sh603219',\n",
       " 'sh603233',\n",
       " 'sh603313',\n",
       " 'sh603315',\n",
       " 'sh603385',\n",
       " 'sh603602',\n",
       " 'sh603798',\n",
       " 'sh603867',\n",
       " 'sh605086',\n",
       " 'sh605116',\n",
       " 'sh688146',\n",
       " 'sh688035',\n",
       " 'sh688181',\n",
       " 'sh688209',\n",
       " 'sh688351',\n",
       " 'sh688329',\n",
       " 'sh688512',\n",
       " 'sh688400',\n",
       " 'sh688488',\n",
       " 'sh688558',\n",
       " 'sh688695',\n",
       " 'sh688683',\n",
       " 'sh688737',\n",
       " 'sz000062',\n",
       " 'sz000782',\n",
       " 'sz000777',\n",
       " 'sz001216',\n",
       " 'sz001231',\n",
       " 'sz002019',\n",
       " 'sz002144',\n",
       " 'sz002303',\n",
       " 'sz002358',\n",
       " 'sz002339',\n",
       " 'sz002404',\n",
       " 'sz002448',\n",
       " 'sz002637',\n",
       " 'sz002536',\n",
       " 'sz002523',\n",
       " 'sz002763',\n",
       " 'sz002773',\n",
       " 'sz002802',\n",
       " 'sz002780',\n",
       " 'sz002787',\n",
       " 'sz002831',\n",
       " 'sz002817',\n",
       " 'sz002903',\n",
       " 'sz002971',\n",
       " 'sz002932',\n",
       " 'sz003030',\n",
       " 'sz300083',\n",
       " 'sz300014',\n",
       " 'sz300143',\n",
       " 'sz300126',\n",
       " 'sz300218',\n",
       " 'sz300296',\n",
       " 'sz300350',\n",
       " 'sz300509',\n",
       " 'sz300415',\n",
       " 'sz300461',\n",
       " 'sz300523',\n",
       " 'sz300831',\n",
       " 'sz300923',\n",
       " 'sz301050',\n",
       " 'sz301057',\n",
       " 'sz301196',\n",
       " 'sz301248',\n",
       " 'sz301298',\n",
       " 'sz301588',\n",
       " 'sz301198',\n",
       " 'sz301429']"
      ]
     },
     "execution_count": 35,
     "metadata": {},
     "output_type": "execute_result"
    }
   ],
   "source": [
    "to_perfect_stock_list"
   ]
  },
  {
   "cell_type": "code",
   "execution_count": 5,
   "id": "184927e9",
   "metadata": {},
   "outputs": [
    {
     "name": "stdout",
     "output_type": "stream",
     "text": [
      "Excel 文件已生成\n",
      "已生成今日金叉 死叉TXT\n"
     ]
    }
   ],
   "source": [
    "# 生成今日金叉 死叉Excel\n",
    "common.Final_file_KDJ.output_excel(all_cross_dates)\n",
    "\n",
    "# 生成今日金叉 死叉TXT\n",
    "print(\"已生成今日金叉 死叉TXT\")\n",
    "today_death_txt_path = \"./output/death_output/today_death_cross.txt\"\n",
    "with open(today_death_txt_path, \"w\") as file:\n",
    "    for item in today_death_cross_list:\n",
    "        file.write(item + \"\\n\")  # 每个元素后加换行符\n",
    "\n",
    "today_gold_txt_path = \"./output/golden_output/today_gold_cross.txt\"\n",
    "with open(today_gold_txt_path, \"w\") as file:\n",
    "    for item in today_gold_cross_list:\n",
    "        file.write(item + \"\\n\")  # 每个元素后加换行符"
   ]
  },
  {
   "cell_type": "markdown",
   "id": "4402a94d",
   "metadata": {},
   "source": [
    "# 按需分流 KDJ日金叉 & KDJ日死叉 代码仓库"
   ]
  },
  {
   "cell_type": "code",
   "execution_count": 6,
   "id": "7170bcb1",
   "metadata": {},
   "outputs": [
    {
     "name": "stdout",
     "output_type": "stream",
     "text": [
      "Processed stock codes saved to ./txt_lib/yest_KDJ日金.txt.\n",
      "Processed stock codes saved to ./txt_lib/yest_KDJ日死.txt.\n"
     ]
    }
   ],
   "source": [
    "def add_capital(input_file: str, output_file: str):\n",
    "    '''给原始股票代码加上抬头; 600001 → sh600001'''\n",
    "    with open(input_file, \"r\") as infile, open(output_file, \"w\") as outfile:\n",
    "        for line in infile:\n",
    "            stock_code = line.strip()\n",
    "            if stock_code.startswith(\"6\"):\n",
    "                processed_code = f\"sh{stock_code}\"\n",
    "            else:\n",
    "                processed_code = f\"sz{stock_code}\"\n",
    "            outfile.write(processed_code + \"\\n\")\n",
    "\n",
    "    print(f\"Processed stock codes saved to {output_file}.\")\n",
    "\n",
    "def copy_yest_txt(input_file: str, output_file: str):\n",
    "    '''复制一份昨日txt 留档'''\n",
    "    with open(input_file, \"r\") as infile, open(output_file, \"w\") as outfile:\n",
    "        for line in infile:\n",
    "            stock_code = line.strip()\n",
    "            outfile.write(stock_code + \"\\n\")\n",
    "    print(f\"Processed stock codes saved to {output_file}.\")\n",
    "\n",
    "\n",
    "dict_filename = \"./txt_lib/stock_name.txt\"\n",
    "stock_dict = common.Initialization.generate_stock_dict(dict_filename)\n",
    "\n",
    "input_file = \"./txt_lib/KDJ日金.txt\"\n",
    "output_file = \"./txt_lib/yest_KDJ日金.txt\"\n",
    "copy_yest_txt(input_file,output_file)\n",
    "input_file = \"./txt_lib/KDJ日死.txt\"\n",
    "output_file = \"./txt_lib/yest_KDJ日死.txt\"\n",
    "copy_yest_txt(input_file, output_file)\n",
    "\n",
    "# 清理两个文件夹\n",
    "common.Final_file.clean_folder(\"./output/KDJ日金\")\n",
    "common.Final_file.clean_folder(\"./output/KDJ日死\")\n",
    "common.Final_file.clean_folder(\"./output/KDJ8\")"
   ]
  },
  {
   "cell_type": "code",
   "execution_count": 7,
   "id": "bf974af6",
   "metadata": {},
   "outputs": [
    {
     "name": "stdout",
     "output_type": "stream",
     "text": [
      "Processed stock codes saved to ./txt_lib/processed_KDJ日金.txt.\n",
      "Batch 1/4 completed, memory: 7002.11 MB\n",
      "Batch 2/4 completed, memory: 7002.11 MB\n",
      "Batch 3/4 completed, memory: 7002.12 MB\n",
      "Batch 4/4 completed, memory: 7002.12 MB\n",
      "Batch 1/4 completed, memory: 7002.11 MB\n",
      "Batch 2/4 completed, memory: 7002.11 MB\n",
      "Batch 3/4 completed, memory: 7002.11 MB\n",
      "Batch 4/4 completed, memory: 7002.11 MB\n",
      "Batch 1/4 completed, memory: 7002.11 MB\n",
      "Batch 2/4 completed, memory: 7002.12 MB\n",
      "Batch 3/4 completed, memory: 7002.12 MB\n",
      "Batch 4/4 completed, memory: 7002.12 MB\n"
     ]
    }
   ],
   "source": [
    "## 处理 KDJ日金 + 周死叉 → 弃\n",
    "# 读取原始文件并处理\n",
    "input_file = \"./txt_lib/KDJ日金.txt\"\n",
    "output_file = \"./txt_lib/processed_KDJ日金.txt\"\n",
    "add_capital(input_file, output_file)\n",
    "\n",
    "file_name = output_file\n",
    "with open(file_name, \"r\") as file:\n",
    "    gold_stock_list = [line.strip() for line in file if line.strip()]\n",
    "\n",
    "gold_to_del_stock_list = []\n",
    "gold_to_del_week_death = common.Final_process.process_stocks(gold_stock_list, mode=\"week_death\")\n",
    "\n",
    "## 处理 KDJ日金 + macd < 0 → 弃\n",
    "\n",
    "gold_macd_below0 = []\n",
    "gold_macd_below0 = common.Final_process.process_stocks(gold_stock_list, mode=\"macd < 0\")\n",
    "\n",
    "## 处理 KDJ日金 + J < K → 弃\n",
    "gold_J_K = []\n",
    "gold_J_K = common.Final_process.process_stocks(gold_stock_list, mode=\"J_K\")\n",
    "\n",
    "# 把选出股票加入 to_del 数组中\n",
    "gold_to_del_stock_list = gold_to_del_week_death + gold_macd_below0 + gold_J_K"
   ]
  },
  {
   "cell_type": "code",
   "execution_count": 8,
   "id": "a889ad79",
   "metadata": {},
   "outputs": [
    {
     "name": "stdout",
     "output_type": "stream",
     "text": [
      "Processed stock codes saved to ./txt_lib/processed_KDJ日死.txt.\n",
      "Batch 1/7 completed, memory: 7002.13 MB\n",
      "Batch 2/7 completed, memory: 7002.14 MB\n",
      "Batch 3/7 completed, memory: 7002.13 MB\n",
      "Batch 4/7 completed, memory: 7002.12 MB\n",
      "Batch 5/7 completed, memory: 7002.13 MB\n",
      "Batch 6/7 completed, memory: 7002.12 MB\n",
      "Batch 7/7 completed, memory: 7002.12 MB\n",
      "Batch 1/7 completed, memory: 7002.12 MB\n",
      "Batch 2/7 completed, memory: 7002.11 MB\n",
      "Batch 3/7 completed, memory: 7002.11 MB\n",
      "Batch 4/7 completed, memory: 7002.11 MB\n",
      "Batch 5/7 completed, memory: 7002.09 MB\n",
      "Batch 6/7 completed, memory: 7002.09 MB\n",
      "Batch 7/7 completed, memory: 7002.09 MB\n"
     ]
    }
   ],
   "source": [
    "## 处理 KDJ日死 + 周死叉 → 弃\n",
    "# 读取原始文件并处理\n",
    "input_file = \"./txt_lib/KDJ日死.txt\"\n",
    "output_file = \"./txt_lib/processed_KDJ日死.txt\"\n",
    "add_capital(input_file, output_file)\n",
    "\n",
    "file_name = output_file\n",
    "with open(file_name, \"r\") as file:\n",
    "    death_stock_list = [line.strip() for line in file if line.strip()]\n",
    "\n",
    "# 周死叉\n",
    "death_week_death = []\n",
    "death_week_death = common.Final_process.process_stocks(death_stock_list, mode=\"week_death\")\n",
    "\n",
    "# 当日处于金叉阶段\n",
    "death_day_golden = []\n",
    "death_day_golden = common.Final_process.process_stocks(\n",
    "    death_stock_list, mode=\"day_golden\"\n",
    ")\n",
    "\n",
    "# 合并要删除的list\n",
    "death_to_del_stock_list = []\n",
    "death_to_del_stock_list = death_week_death + death_day_golden"
   ]
  },
  {
   "cell_type": "code",
   "execution_count": 9,
   "id": "a437c572",
   "metadata": {},
   "outputs": [
    {
     "name": "stdout",
     "output_type": "stream",
     "text": [
      "Batch 1/4 completed, memory: 7002.10 MB\n",
      "Batch 2/4 completed, memory: 6544.57 MB\n",
      "Batch 3/4 completed, memory: 6448.55 MB\n",
      "Batch 4/4 completed, memory: 6450.36 MB\n"
     ]
    }
   ],
   "source": [
    "## 处理 KDJ日金 + 日死 → KDJ日死\n",
    "gold_to_move_day_death_stock_list = []\n",
    "gold_to_move_day_death_stock_list = common.Final_process.process_stocks(gold_stock_list, mode=\"daily_death\")"
   ]
  },
  {
   "cell_type": "code",
   "execution_count": 10,
   "id": "55d22d67",
   "metadata": {},
   "outputs": [
    {
     "name": "stdout",
     "output_type": "stream",
     "text": [
      "Batch 1/4 completed, memory: 6461.81 MB\n",
      "Batch 2/4 completed, memory: 6468.91 MB\n",
      "Batch 3/4 completed, memory: 6468.94 MB\n",
      "Batch 4/4 completed, memory: 6468.94 MB\n"
     ]
    }
   ],
   "source": [
    "## 处理 KDJ日金 + J线拐头 → KDJ8\n",
    "gold_to_move_8_stock_list = []\n",
    "gold_to_move_8_stock_list = common.Final_process.process_stocks(\n",
    "    gold_stock_list, mode=\"J_turn_around\"\n",
    ")"
   ]
  },
  {
   "cell_type": "code",
   "execution_count": 11,
   "id": "e5780921",
   "metadata": {},
   "outputs": [],
   "source": [
    "# ## KDJ日死 + Bol: 前次碰上轨，今日碰下轨 → 操作2\n",
    "# death_to_op2_list = []\n",
    "# death_to_op2_list = common.Final_process.process_stocks(death_stock_list, mode=\"bol_lower\")"
   ]
  },
  {
   "cell_type": "code",
   "execution_count": 12,
   "id": "25b1b694",
   "metadata": {},
   "outputs": [
    {
     "name": "stdout",
     "output_type": "stream",
     "text": [
      "Batch 1/7 completed, memory: 6479.46 MB\n",
      "Batch 2/7 completed, memory: 6491.11 MB\n",
      "Batch 3/7 completed, memory: 6502.50 MB\n",
      "Batch 4/7 completed, memory: 6513.59 MB\n",
      "Batch 5/7 completed, memory: 6525.31 MB\n",
      "Batch 6/7 completed, memory: 6537.70 MB\n",
      "Batch 7/7 completed, memory: 6538.02 MB\n"
     ]
    }
   ],
   "source": [
    "## 找出 KDJ日死 接近金叉的股票\n",
    "death_near_gold_list = []\n",
    "death_near_gold_list = common.Final_process.process_stocks(\n",
    "    death_stock_list, mode=\"kdj_near_gold\"\n",
    ")"
   ]
  },
  {
   "cell_type": "markdown",
   "id": "988f3215",
   "metadata": {},
   "source": [
    "# 图片 Excel生成"
   ]
  },
  {
   "cell_type": "code",
   "execution_count": 13,
   "id": "3025d5b8",
   "metadata": {},
   "outputs": [],
   "source": [
    "try:\n",
    "    folder = Path(\"./output\")\n",
    "    folder.mkdir()\n",
    "except Exception as e:\n",
    "    pass\n",
    "\n",
    "try:\n",
    "    folder = Path(\"./output/KDJ日金\")\n",
    "    folder.mkdir()\n",
    "    folder = Path(\"./output/KDJ日死\")\n",
    "    folder.mkdir()\n",
    "    folder = Path(\"./output/KDJ8\")\n",
    "    folder.mkdir()\n",
    "    folder = Path(\"./output/操作1.1\")\n",
    "    folder.mkdir()\n",
    "    folder = Path(\"./output/操作2\")\n",
    "    folder.mkdir()\n",
    "except Exception as e:\n",
    "    pass"
   ]
  },
  {
   "cell_type": "code",
   "execution_count": 14,
   "id": "14b6e7b1",
   "metadata": {},
   "outputs": [
    {
     "name": "stdout",
     "output_type": "stream",
     "text": [
      "Excel 文件已生成: ./output/KDJ日金/KDJ日金.xlsx\n",
      "所有图片已生成！\n"
     ]
    }
   ],
   "source": [
    "# 今日金叉数据\n",
    "today_gold_txt_path = \"./output/golden_output/today_gold_cross.txt\"\n",
    "today_gold_list = []\n",
    "with open(today_gold_txt_path, \"r\") as file:\n",
    "    for line in file:\n",
    "        stock_code = line.strip()\n",
    "        today_gold_list.append(stock_code)\n",
    "\n",
    "# KDJ日金 文件生成\n",
    "kdj_res = []\n",
    "for stock_code in gold_stock_list:\n",
    "    condition1 = stock_code not in gold_to_del_stock_list # 周死\n",
    "    condition2 = stock_code not in gold_to_move_day_death_stock_list # 日死\n",
    "    condition3 = stock_code not in gold_to_move_8_stock_list #拐头\n",
    "    if condition1 and condition2 and condition3:\n",
    "        kdj_res.append(stock_code)\n",
    "\n",
    "# 加入今日金叉数据\n",
    "for stock_code in today_gold_list:\n",
    "    if stock_code not in kdj_res:\n",
    "        kdj_res.append(stock_code)\n",
    "\n",
    "output_file = './output/KDJ日金/KDJ日金.xlsx'\n",
    "common.Final_file.output_excel(kdj_res,output_file,condition='日金')\n",
    "common.Final_file.mk_pic(output_file)  # 生成所有图片"
   ]
  },
  {
   "cell_type": "code",
   "execution_count": 15,
   "id": "576261bc",
   "metadata": {},
   "outputs": [
    {
     "name": "stdout",
     "output_type": "stream",
     "text": [
      "Processed stock codes saved to ./txt_lib/KDJ日金.txt.\n"
     ]
    }
   ],
   "source": [
    "# 覆写KDJ日金txt\n",
    "output_file = \"./txt_lib/KDJ日金.txt\"\n",
    "with open(output_file, \"w\") as outfile1:\n",
    "    for stock_code in kdj_res:\n",
    "        processed_code = stock_code[2:]\n",
    "        outfile1.write(processed_code + \"\\n\")\n",
    "\n",
    "print(f\"Processed stock codes saved to {output_file}.\")"
   ]
  },
  {
   "cell_type": "code",
   "execution_count": 16,
   "id": "88e37e36",
   "metadata": {},
   "outputs": [
    {
     "name": "stdout",
     "output_type": "stream",
     "text": [
      "Batch 1/2 completed, memory: 6554.86 MB\n",
      "Batch 2/2 completed, memory: 6564.64 MB\n",
      "Batch 1/2 completed, memory: 6564.64 MB\n",
      "Batch 2/2 completed, memory: 6564.65 MB\n",
      "Excel 文件已生成: ./output/KDJ8/KDJ8.xlsx\n",
      "所有图片已生成！\n",
      "今日KDJ8 txt文件已生成。\n"
     ]
    }
   ],
   "source": [
    "# KDJ8 文件生成\n",
    "\n",
    "# 读取昨日kdj8 txt\n",
    "yest_kdj8_list = []\n",
    "yest_kdj8_path = \"./txt_lib/today_kdj8.txt\"\n",
    "with open(yest_kdj8_path, \"r\") as file:\n",
    "    for line in file:\n",
    "        stock_code = line.strip()\n",
    "        if stock_code.startswith(\"6\"):\n",
    "            processed_code = f\"sh{stock_code}\"\n",
    "        elif stock_code.startswith(\"0\"):\n",
    "            processed_code = f\"sz{stock_code}\"\n",
    "        else:\n",
    "            processed_code = stock_code\n",
    "        yest_kdj8_list.append(processed_code)\n",
    "\n",
    "# 筛出日死代码\n",
    "kdj8_to_move_day_death_stock_list = []\n",
    "kdj8_to_move_day_death_stock_list = common.Final_process.process_stocks(\n",
    "    yest_kdj8_list, mode=\"daily_death\"\n",
    ")\n",
    "\n",
    "# 筛出周死代码\n",
    "kdj8_to_del_stock_list = []\n",
    "kdj8_to_del_stock_list = common.Final_process.process_stocks(\n",
    "    yest_kdj8_list, mode=\"week_death\"\n",
    ")\n",
    "\n",
    "today_kdj8 = []\n",
    "\n",
    "for stock_code in yest_kdj8_list:\n",
    "    condition1 = stock_code not in kdj8_to_del_stock_list # 周死\n",
    "    condition2 = stock_code not in kdj8_to_move_day_death_stock_list # 日死\n",
    "    condition3 = stock_code not in gold_to_move_8_stock_list # 今日\n",
    "    if condition1 and condition2 and condition3:\n",
    "        today_kdj8.append(stock_code)\n",
    "\n",
    "today_kdj8 += gold_to_move_8_stock_list\n",
    "res = [item for item in today_kdj8 if isinstance(item, str)]\n",
    "\n",
    "# 最终输出\n",
    "output_file = \"./output/KDJ8/KDJ8.xlsx\"\n",
    "common.Final_file.output_excel(today_kdj8, output_file, condition=\"8\")\n",
    "common.Final_file.mk_pic(output_file)  # 生成所有图片\n",
    "\n",
    "# 生成今日 KDJ8 TXT\n",
    "today_kdj8_txt_path = \"./txt_lib/today_kdj8.txt\"\n",
    "with open(today_kdj8_txt_path, \"w\") as file:\n",
    "    for item in res:\n",
    "        file.write(item + \"\\n\")  # 每个元素后加换行符\n",
    "\n",
    "print(\"今日KDJ8 txt文件已生成。\")"
   ]
  },
  {
   "cell_type": "code",
   "execution_count": 17,
   "id": "afcd8f32",
   "metadata": {},
   "outputs": [
    {
     "name": "stdout",
     "output_type": "stream",
     "text": [
      "Excel 文件已生成: ./output/KDJ日死/KDJ日死.xlsx\n",
      "所有图片已生成！\n"
     ]
    }
   ],
   "source": [
    "# KDJ日死 文件生成\n",
    "kdj_death = []\n",
    "\n",
    "# 今日死叉数据\n",
    "today_death_txt_path = \"./output/death_output/today_death_cross.txt\"\n",
    "today_death_list = []\n",
    "with open(today_death_txt_path, \"r\") as file:\n",
    "    for line in file:\n",
    "        stock_code = line.strip()\n",
    "        today_death_list.append(stock_code)\n",
    "\n",
    "for stock_code in death_stock_list:\n",
    "    condition1 = stock_code not in death_to_del_stock_list\n",
    "    # condition2 = stock_code not in death_to_op2_list\n",
    "    if condition1:\n",
    "        kdj_death.append(stock_code)\n",
    "\n",
    "# 加入今日死叉数据\n",
    "for stock_code in today_death_list:\n",
    "    if stock_code not in kdj_death:\n",
    "        kdj_death.append(stock_code)\n",
    "        \n",
    "# 加入今日kdj8日死数据\n",
    "for stock_code in kdj8_to_move_day_death_stock_list:\n",
    "    if stock_code not in kdj_death:\n",
    "        kdj_death.append(stock_code)\n",
    "\n",
    "output_file = \"./output/KDJ日死/KDJ日死.xlsx\"\n",
    "common.Final_file.output_excel(kdj_death, output_file, condition=\"日死\")\n",
    "common.Final_file.mk_pic(output_file)  # 生成所有图片"
   ]
  },
  {
   "cell_type": "markdown",
   "id": "e43eb467",
   "metadata": {},
   "source": [
    "## 操作2"
   ]
  },
  {
   "cell_type": "code",
   "execution_count": 18,
   "id": "f0f9617f",
   "metadata": {},
   "outputs": [
    {
     "name": "stdout",
     "output_type": "stream",
     "text": [
      "Batch 1/6 completed, memory: 6566.48 MB\n",
      "Batch 2/6 completed, memory: 6566.96 MB\n",
      "Batch 3/6 completed, memory: 6566.95 MB\n",
      "Batch 4/6 completed, memory: 6566.95 MB\n",
      "Batch 5/6 completed, memory: 6567.71 MB\n",
      "Batch 6/6 completed, memory: 6567.71 MB\n"
     ]
    }
   ],
   "source": [
    "# KDJ日死 + 今日是第二根阴线 + 日MACD > 0 + '第三日'创最近十日新高 + 最近两天不能碰中轨 → 操作2\n",
    "op2_3 = []\n",
    "op2_3 = common.Final_process.process_stocks(kdj_death, mode=\"op2_3\")"
   ]
  },
  {
   "cell_type": "code",
   "execution_count": 19,
   "id": "d5febd49",
   "metadata": {},
   "outputs": [
    {
     "name": "stdout",
     "output_type": "stream",
     "text": [
      "Batch 1/1 completed, memory: 6567.72 MB\n",
      "Batch 1/1 completed, memory: 6589.04 MB\n",
      "Excel 文件已生成: ./output/操作2/操作2.xlsx\n",
      "所有图片已生成！\n"
     ]
    }
   ],
   "source": [
    "# 输出操作2 Excel 图片\n",
    "op2 = []\n",
    "# op2 = death_to_op2_list + death_near_gold_list + op2_3\n",
    "op2 = death_near_gold_list + op2_3\n",
    "\n",
    "# 当日没有碰上轨\n",
    "final_list = []\n",
    "final_list = common.Final_process.process_stocks(op2, mode=\"not_touch_upper\")\n",
    "\n",
    "# 利润 > 0 -> 保留\n",
    "# 利润 < 0 + 周&月macd dif > 0 -> 保留\n",
    "profit_list = []\n",
    "profit_list = common.Final_process.process_stocks(final_list, mode=\"profit_check\")\n",
    "\n",
    "output_file = \"./output/操作2/操作2.xlsx\"\n",
    "common.Final_file.output_excel(profit_list, output_file, condition=\"bol\")\n",
    "common.Final_file.mk_pic(output_file)  # 生成所有图片"
   ]
  },
  {
   "cell_type": "code",
   "execution_count": 20,
   "id": "e559394a",
   "metadata": {},
   "outputs": [
    {
     "name": "stdout",
     "output_type": "stream",
     "text": [
      "Processed stock codes saved to ./txt_lib/KDJ日死.txt.\n"
     ]
    }
   ],
   "source": [
    "# 覆写KDJ日死txt\n",
    "output_file = \"./txt_lib/KDJ日死.txt\"\n",
    "with open(output_file, \"w\") as outfile1:\n",
    "    for stock_code in kdj_death:\n",
    "        processed_code = stock_code[2:]\n",
    "        outfile1.write(processed_code + \"\\n\")\n",
    "\n",
    "print(f\"Processed stock codes saved to {output_file}.\")"
   ]
  },
  {
   "cell_type": "markdown",
   "id": "75231615",
   "metadata": {},
   "source": [
    "## 操作1.1"
   ]
  },
  {
   "cell_type": "code",
   "execution_count": 21,
   "id": "266ec6b0",
   "metadata": {},
   "outputs": [],
   "source": [
    "# # KDJ金叉\n",
    "# # 前次碰上轨 + 今日碰中轨 + 昨日最高价 > 今日最高价 → 操作1.1\n",
    "\n",
    "# gold_to_1_1_list = []\n",
    "# gold_to_1_1_list = common.Final_process.process_stocks(kdj_res, mode=\"bol\")"
   ]
  },
  {
   "cell_type": "code",
   "execution_count": 38,
   "id": "cd02baf0",
   "metadata": {},
   "outputs": [
    {
     "name": "stdout",
     "output_type": "stream",
     "text": [
      "Batch 1/4 completed, memory: 8513.05 MB\n",
      "Batch 2/4 completed, memory: 8518.32 MB\n",
      "Batch 3/4 completed, memory: 8518.61 MB\n",
      "Batch 4/4 completed, memory: 8518.62 MB\n"
     ]
    }
   ],
   "source": [
    "# 处理 KDJ日金 + 阴线 + 周kdj → 操作1.1\n",
    "# 判断是否今日是第一根阴线 + 周kdj金叉三周内\n",
    "# + 昨日阳线碰Bol上轨 + 今日最高价小于昨日最高价\n",
    "# 弃用\n",
    "\n",
    "# 今日是阴线 + abs(最低价 - 中轨) / 收盘价 < 3% or abs(最低价 -下轨) / 收盘价 < 3%\n",
    "# abs(上轨 - 收盘价) / 收盘价 > 10%  + 周kdj金叉三周内 ———— 周kdj金叉2周内\n",
    "# 两者符合其一\n",
    "\n",
    "op1_1_2cond = []\n",
    "op1_1_2cond = common.Final_process.process_stocks(kdj_res, mode=\"阴线_2cond\")"
   ]
  },
  {
   "cell_type": "code",
   "execution_count": 39,
   "id": "2a7dddbc",
   "metadata": {},
   "outputs": [
    {
     "name": "stdout",
     "output_type": "stream",
     "text": [
      "Excel 文件已生成: ./output/操作1.1/操作1.1.xlsx\n",
      "所有图片已生成！\n"
     ]
    }
   ],
   "source": [
    "# 输出操作1.1 Excel 图片\n",
    "op1_1 = []\n",
    "# op1_1 = to_perfect_stock_list + gold_to_1_1_list + op1_1_cond3\n",
    "op1_1 = op1_1_today + op1_1_2cond\n",
    "output_file = \"./output/操作1.1/操作1.1.xlsx\"\n",
    "\n",
    "common.Final_file.output_excel(op1_1, output_file, condition=\"bol\")\n",
    "common.Final_file.mk_pic(output_file)  # 生成所有图片"
   ]
  },
  {
   "cell_type": "markdown",
   "id": "4492a896",
   "metadata": {},
   "source": [
    "## TEST"
   ]
  },
  {
   "cell_type": "code",
   "execution_count": 36,
   "id": "a600daae",
   "metadata": {},
   "outputs": [
    {
     "data": {
      "text/plain": [
       "<module 'common' from 'd:\\\\stock_info\\\\common.py'>"
      ]
     },
     "execution_count": 36,
     "metadata": {},
     "output_type": "execute_result"
    }
   ],
   "source": [
    "# from importlib import reload\n",
    "# reload(calculate)\n",
    "# reload(common)"
   ]
  },
  {
   "cell_type": "code",
   "execution_count": 25,
   "id": "7f20dbab",
   "metadata": {},
   "outputs": [],
   "source": [
    "stock_code = \"sh600027\"\n",
    "current_date = datetime.now()\n",
    "\n",
    "df = ak.stock_zh_a_daily(\n",
    "    symbol=stock_code,\n",
    "    start_date=\"2015-01-01\",\n",
    "    end_date=current_date.strftime(\"%Y-%m-%d\"),\n",
    ")"
   ]
  },
  {
   "cell_type": "code",
   "execution_count": 26,
   "id": "8336171f",
   "metadata": {},
   "outputs": [
    {
     "data": {
      "text/html": [
       "<div>\n",
       "<style scoped>\n",
       "    .dataframe tbody tr th:only-of-type {\n",
       "        vertical-align: middle;\n",
       "    }\n",
       "\n",
       "    .dataframe tbody tr th {\n",
       "        vertical-align: top;\n",
       "    }\n",
       "\n",
       "    .dataframe thead th {\n",
       "        text-align: right;\n",
       "    }\n",
       "</style>\n",
       "<table border=\"1\" class=\"dataframe\">\n",
       "  <thead>\n",
       "    <tr style=\"text-align: right;\">\n",
       "      <th></th>\n",
       "      <th>date</th>\n",
       "      <th>open</th>\n",
       "      <th>high</th>\n",
       "      <th>low</th>\n",
       "      <th>close</th>\n",
       "      <th>volume</th>\n",
       "      <th>amount</th>\n",
       "      <th>outstanding_share</th>\n",
       "      <th>turnover</th>\n",
       "    </tr>\n",
       "  </thead>\n",
       "  <tbody>\n",
       "    <tr>\n",
       "      <th>2540</th>\n",
       "      <td>2025-07-04</td>\n",
       "      <td>5.58</td>\n",
       "      <td>5.67</td>\n",
       "      <td>5.57</td>\n",
       "      <td>5.62</td>\n",
       "      <td>80548968.0</td>\n",
       "      <td>453558847.0</td>\n",
       "      <td>8.510328e+09</td>\n",
       "      <td>0.009465</td>\n",
       "    </tr>\n",
       "    <tr>\n",
       "      <th>2541</th>\n",
       "      <td>2025-07-07</td>\n",
       "      <td>5.67</td>\n",
       "      <td>5.76</td>\n",
       "      <td>5.61</td>\n",
       "      <td>5.74</td>\n",
       "      <td>115261332.0</td>\n",
       "      <td>656452646.0</td>\n",
       "      <td>8.510328e+09</td>\n",
       "      <td>0.013544</td>\n",
       "    </tr>\n",
       "    <tr>\n",
       "      <th>2542</th>\n",
       "      <td>2025-07-08</td>\n",
       "      <td>5.74</td>\n",
       "      <td>5.75</td>\n",
       "      <td>5.63</td>\n",
       "      <td>5.66</td>\n",
       "      <td>95824222.0</td>\n",
       "      <td>543075127.0</td>\n",
       "      <td>8.510328e+09</td>\n",
       "      <td>0.011260</td>\n",
       "    </tr>\n",
       "    <tr>\n",
       "      <th>2543</th>\n",
       "      <td>2025-07-09</td>\n",
       "      <td>5.66</td>\n",
       "      <td>5.71</td>\n",
       "      <td>5.59</td>\n",
       "      <td>5.59</td>\n",
       "      <td>89397800.0</td>\n",
       "      <td>503405568.0</td>\n",
       "      <td>8.510328e+09</td>\n",
       "      <td>0.010505</td>\n",
       "    </tr>\n",
       "    <tr>\n",
       "      <th>2544</th>\n",
       "      <td>2025-07-10</td>\n",
       "      <td>5.59</td>\n",
       "      <td>5.64</td>\n",
       "      <td>5.56</td>\n",
       "      <td>5.57</td>\n",
       "      <td>69600065.0</td>\n",
       "      <td>389018659.0</td>\n",
       "      <td>8.510328e+09</td>\n",
       "      <td>0.008178</td>\n",
       "    </tr>\n",
       "    <tr>\n",
       "      <th>2545</th>\n",
       "      <td>2025-07-11</td>\n",
       "      <td>5.57</td>\n",
       "      <td>5.59</td>\n",
       "      <td>5.55</td>\n",
       "      <td>5.55</td>\n",
       "      <td>81331958.0</td>\n",
       "      <td>452399292.0</td>\n",
       "      <td>8.510328e+09</td>\n",
       "      <td>0.009557</td>\n",
       "    </tr>\n",
       "    <tr>\n",
       "      <th>2546</th>\n",
       "      <td>2025-07-14</td>\n",
       "      <td>5.45</td>\n",
       "      <td>5.50</td>\n",
       "      <td>5.42</td>\n",
       "      <td>5.47</td>\n",
       "      <td>86852267.0</td>\n",
       "      <td>475546678.0</td>\n",
       "      <td>8.510328e+09</td>\n",
       "      <td>0.010206</td>\n",
       "    </tr>\n",
       "  </tbody>\n",
       "</table>\n",
       "</div>"
      ],
      "text/plain": [
       "            date  open  high   low  close       volume       amount  \\\n",
       "2540  2025-07-04  5.58  5.67  5.57   5.62   80548968.0  453558847.0   \n",
       "2541  2025-07-07  5.67  5.76  5.61   5.74  115261332.0  656452646.0   \n",
       "2542  2025-07-08  5.74  5.75  5.63   5.66   95824222.0  543075127.0   \n",
       "2543  2025-07-09  5.66  5.71  5.59   5.59   89397800.0  503405568.0   \n",
       "2544  2025-07-10  5.59  5.64  5.56   5.57   69600065.0  389018659.0   \n",
       "2545  2025-07-11  5.57  5.59  5.55   5.55   81331958.0  452399292.0   \n",
       "2546  2025-07-14  5.45  5.50  5.42   5.47   86852267.0  475546678.0   \n",
       "\n",
       "      outstanding_share  turnover  \n",
       "2540       8.510328e+09  0.009465  \n",
       "2541       8.510328e+09  0.013544  \n",
       "2542       8.510328e+09  0.011260  \n",
       "2543       8.510328e+09  0.010505  \n",
       "2544       8.510328e+09  0.008178  \n",
       "2545       8.510328e+09  0.009557  \n",
       "2546       8.510328e+09  0.010206  "
      ]
     },
     "execution_count": 26,
     "metadata": {},
     "output_type": "execute_result"
    }
   ],
   "source": [
    "df.tail(7)"
   ]
  }
 ],
 "metadata": {
  "kernelspec": {
   "display_name": "Python 3",
   "language": "python",
   "name": "python3"
  },
  "language_info": {
   "codemirror_mode": {
    "name": "ipython",
    "version": 3
   },
   "file_extension": ".py",
   "mimetype": "text/x-python",
   "name": "python",
   "nbconvert_exporter": "python",
   "pygments_lexer": "ipython3",
   "version": "3.10.11"
  }
 },
 "nbformat": 4,
 "nbformat_minor": 5
}
