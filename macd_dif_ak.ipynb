{
 "cells": [
  {
   "cell_type": "markdown",
   "metadata": {},
   "source": [
    "## 月MACD DIF刚刚大于0"
   ]
  },
  {
   "cell_type": "code",
   "execution_count": 2,
   "metadata": {},
   "outputs": [],
   "source": [
    "import akshare as ak\n",
    "import pandas as pd\n",
    "from pandas import DataFrame\n",
    "from datetime import datetime, timedelta\n",
    "import time\n",
    "import matplotlib.pyplot as plt\n",
    "import shutil\n",
    "from pathlib import Path\n",
    "from concurrent.futures import ThreadPoolExecutor, as_completed\n",
    "import random\n",
    "import os\n",
    "import pickle\n",
    "\n",
    "import common\n",
    "import calculate\n",
    "\n",
    "# current_date = datetime.now() + timedelta(days=1)\n",
    "# one_week_ago = current_date - timedelta(days=7)  # 计算一周之前的日期"
   ]
  },
  {
   "cell_type": "code",
   "execution_count": 4,
   "metadata": {},
   "outputs": [],
   "source": [
    "file_name = \"./txt_lib/stock_code.txt\"\n",
    "with open(file_name, \"r\") as file:\n",
    "    stock_list = [line.strip() for line in file if line.strip()]\n",
    "\n",
    "mode = \"macd\" # 设定macd模式\n",
    "\n",
    "# # 限制股票数量\n",
    "# stock_list = stock_list[:250]"
   ]
  },
  {
   "cell_type": "code",
   "execution_count": 5,
   "metadata": {},
   "outputs": [
    {
     "name": "stdout",
     "output_type": "stream",
     "text": [
      "Batch 1 completed, memory: 7318.93 MB\n",
      "Error processing sh600218: 'date'\n",
      "Error processing sh600223: 'date'\n",
      "Batch 2 completed, memory: 7317.75 MB\n",
      "Error processing sh600328: 'date'\n",
      "Batch 3 completed, memory: 7318.08 MB\n",
      "Batch 4 completed, memory: 7318.68 MB\n",
      "Batch 5 completed, memory: 7318.59 MB\n",
      "Batch 6 completed, memory: 7318.46 MB\n",
      "Batch 7 completed, memory: 7318.31 MB\n",
      "Batch 8 completed, memory: 7319.13 MB\n",
      "Batch 9 completed, memory: 7316.68 MB\n",
      "Batch 10 completed, memory: 7318.36 MB\n",
      "Batch 11 completed, memory: 7318.45 MB\n",
      "Batch 12 completed, memory: 7319.81 MB\n",
      "Batch 13 completed, memory: 7317.71 MB\n",
      "Batch 14 completed, memory: 7317.16 MB\n",
      "Batch 15 completed, memory: 7318.02 MB\n",
      "Batch 16 completed, memory: 7318.31 MB\n",
      "Batch 17 completed, memory: 7318.69 MB\n",
      "Batch 18 completed, memory: 7319.47 MB\n",
      "Batch 19 completed, memory: 7317.65 MB\n",
      "Batch 20 completed, memory: 7317.65 MB\n",
      "Batch 21 completed, memory: 7318.83 MB\n",
      "Batch 22 completed, memory: 7318.08 MB\n",
      "Batch 23 completed, memory: 7318.56 MB\n",
      "Batch 24 completed, memory: 7320.51 MB\n",
      "Batch 25 completed, memory: 7319.62 MB\n",
      "Error processing sz000839: 'date'\n",
      "Error processing sz000848: 'date'\n",
      "Batch 26 completed, memory: 7320.50 MB\n",
      "Batch 27 completed, memory: 7318.91 MB\n",
      "Batch 28 completed, memory: 7319.43 MB\n",
      "Batch 29 completed, memory: 7318.97 MB\n",
      "Batch 30 completed, memory: 7318.30 MB\n",
      "Batch 31 completed, memory: 7319.14 MB\n",
      "Batch 32 completed, memory: 7320.74 MB\n",
      "Batch 33 completed, memory: 7321.04 MB\n",
      "Batch 34 completed, memory: 7318.94 MB\n",
      "Error processing sz002750: 'date'\n",
      "Batch 35 completed, memory: 7318.46 MB\n",
      "Batch 36 completed, memory: 7320.07 MB\n",
      "Batch 37 completed, memory: 7319.28 MB\n",
      "Batch 38 completed, memory: 7318.50 MB\n",
      "Batch 39 completed, memory: 7320.51 MB\n",
      "Batch 40 completed, memory: 7317.88 MB\n",
      "Batch 41 completed, memory: 7320.68 MB\n",
      "Batch 42 completed, memory: 7320.87 MB\n",
      "Batch 43 completed, memory: 7319.03 MB\n",
      "Batch 44 completed, memory: 7320.20 MB\n",
      "Batch 45 completed, memory: 7318.34 MB\n",
      "Batch 46 completed, memory: 7319.12 MB\n",
      "Batch 47 completed, memory: 7319.14 MB\n",
      "Batch 48 completed, memory: 7317.89 MB\n",
      "Batch 49 completed, memory: 7318.66 MB\n",
      "Batch 50 completed, memory: 7318.35 MB\n",
      "Batch 51 completed, memory: 7319.03 MB\n"
     ]
    }
   ],
   "source": [
    "dif_list = []\n",
    "dif_list = common.Final_process.process_stocks(stock_list, mode=\"month_macd\")\n",
    "\n",
    "# 排除error processing的股票\n",
    "dif_list = [item for item in dif_list if isinstance(item, str)]"
   ]
  },
  {
   "cell_type": "code",
   "execution_count": 13,
   "metadata": {},
   "outputs": [
    {
     "name": "stdout",
     "output_type": "stream",
     "text": [
      "Batch 1 completed, memory: 7128.65 MB\n",
      "Batch 2 completed, memory: 7155.52 MB\n",
      "Batch 1 completed, memory: 7159.45 MB\n",
      "Batch 2 completed, memory: 7156.93 MB\n"
     ]
    }
   ],
   "source": [
    "# 找出Bol中轨本月大于上月\n",
    "month_upper = []\n",
    "month_upper = common.Final_process.process_stocks(dif_list, mode=\"month_mid_line_upper\")\n",
    "\n",
    "# KDJ 当月金叉\n",
    "month_kdj_golden = []\n",
    "month_kdj_golden = common.Final_process.process_stocks(month_upper, mode=\"month_kdj_golden\")\n",
    "\n",
    "res = []\n",
    "res = month_kdj_golden"
   ]
  },
  {
   "cell_type": "code",
   "execution_count": 16,
   "metadata": {},
   "outputs": [
    {
     "name": "stdout",
     "output_type": "stream",
     "text": [
      "Excel 文件已生成: ./output/month_macd/month_macd.xlsx\n",
      "所有图片已生成！\n",
      "Excel 文件已生成: ./output/month_macd1.1/month_macd1.1.xlsx\n",
      "所有图片已生成！\n"
     ]
    }
   ],
   "source": [
    "common.Final_file.clean_folder(\"./output/month_macd\")  # 清空month_macd\n",
    "common.Final_file.clean_folder(\"./output/month_macd1.1\")  # 清空month_macd1.1\n",
    "\n",
    "# month_macd Excel & 图片生成\n",
    "output_file = \"./output/month_macd/month_macd.xlsx\"\n",
    "common.Final_file.output_excel(dif_list, output_file, condition=\"月MACD\")\n",
    "common.Final_file.mk_pic(output_file)  # 生成所有图片\n",
    "\n",
    "# month_macd1.1 Excel & 图片生成\n",
    "output_file = \"./output/month_macd1.1/month_macd1.1.xlsx\"\n",
    "common.Final_file.output_excel(res, output_file, condition=\"月MACD 1.1\")\n",
    "common.Final_file.mk_pic(output_file)  # 生成所有图片"
   ]
  },
  {
   "cell_type": "markdown",
   "metadata": {},
   "source": [
    "## TEST"
   ]
  },
  {
   "cell_type": "code",
   "execution_count": 12,
   "metadata": {},
   "outputs": [
    {
     "data": {
      "text/plain": [
       "<module 'common' from 'e:\\\\GRADUATE\\\\project\\\\stock_info\\\\common.py'>"
      ]
     },
     "execution_count": 12,
     "metadata": {},
     "output_type": "execute_result"
    }
   ],
   "source": [
    "from importlib import reload\n",
    "reload(calculate)\n",
    "reload(common)"
   ]
  },
  {
   "cell_type": "code",
   "execution_count": 6,
   "metadata": {},
   "outputs": [],
   "source": [
    "stock_code = \"sh600958\"\n",
    "current_date = datetime.now()\n",
    "df = ak.stock_zh_a_daily(\n",
    "    symbol=stock_code,\n",
    "    start_date=\"2018-01-01\",\n",
    "    end_date=current_date.strftime(\"%Y-%m-%d\"),\n",
    "    adjust=\"\",\n",
    ")\n",
    "\n",
    "# calculate.MACD.calculate_macd(df).tail(7)"
   ]
  },
  {
   "cell_type": "code",
   "execution_count": 9,
   "metadata": {},
   "outputs": [
    {
     "data": {
      "text/html": [
       "<div>\n",
       "<style scoped>\n",
       "    .dataframe tbody tr th:only-of-type {\n",
       "        vertical-align: middle;\n",
       "    }\n",
       "\n",
       "    .dataframe tbody tr th {\n",
       "        vertical-align: top;\n",
       "    }\n",
       "\n",
       "    .dataframe thead th {\n",
       "        text-align: right;\n",
       "    }\n",
       "</style>\n",
       "<table border=\"1\" class=\"dataframe\">\n",
       "  <thead>\n",
       "    <tr style=\"text-align: right;\">\n",
       "      <th></th>\n",
       "      <th>year_month</th>\n",
       "      <th>open</th>\n",
       "      <th>high</th>\n",
       "      <th>low</th>\n",
       "      <th>close</th>\n",
       "      <th>volume</th>\n",
       "      <th>K</th>\n",
       "      <th>D</th>\n",
       "      <th>J</th>\n",
       "      <th>Golden_Cross</th>\n",
       "      <th>Dead_Cross</th>\n",
       "      <th>Price_Change</th>\n",
       "      <th>Trend</th>\n",
       "    </tr>\n",
       "  </thead>\n",
       "  <tbody>\n",
       "    <tr>\n",
       "      <th>84</th>\n",
       "      <td>2025-01</td>\n",
       "      <td>10.50</td>\n",
       "      <td>10.56</td>\n",
       "      <td>9.33</td>\n",
       "      <td>9.74</td>\n",
       "      <td>764541606.0</td>\n",
       "      <td>58.575</td>\n",
       "      <td>56.977</td>\n",
       "      <td>61.771</td>\n",
       "      <td>False</td>\n",
       "      <td>False</td>\n",
       "      <td>-0.82</td>\n",
       "      <td>Down</td>\n",
       "    </tr>\n",
       "    <tr>\n",
       "      <th>85</th>\n",
       "      <td>2025-02</td>\n",
       "      <td>9.80</td>\n",
       "      <td>10.14</td>\n",
       "      <td>9.65</td>\n",
       "      <td>9.72</td>\n",
       "      <td>890701320.0</td>\n",
       "      <td>54.872</td>\n",
       "      <td>56.275</td>\n",
       "      <td>52.066</td>\n",
       "      <td>False</td>\n",
       "      <td>True</td>\n",
       "      <td>-0.02</td>\n",
       "      <td>Down</td>\n",
       "    </tr>\n",
       "    <tr>\n",
       "      <th>86</th>\n",
       "      <td>2025-03</td>\n",
       "      <td>9.72</td>\n",
       "      <td>10.10</td>\n",
       "      <td>9.40</td>\n",
       "      <td>9.44</td>\n",
       "      <td>884243424.0</td>\n",
       "      <td>50.653</td>\n",
       "      <td>54.401</td>\n",
       "      <td>43.157</td>\n",
       "      <td>False</td>\n",
       "      <td>False</td>\n",
       "      <td>-0.28</td>\n",
       "      <td>Down</td>\n",
       "    </tr>\n",
       "    <tr>\n",
       "      <th>87</th>\n",
       "      <td>2025-04</td>\n",
       "      <td>9.45</td>\n",
       "      <td>9.50</td>\n",
       "      <td>8.43</td>\n",
       "      <td>9.16</td>\n",
       "      <td>726493921.0</td>\n",
       "      <td>40.934</td>\n",
       "      <td>49.912</td>\n",
       "      <td>22.978</td>\n",
       "      <td>False</td>\n",
       "      <td>False</td>\n",
       "      <td>-0.28</td>\n",
       "      <td>Down</td>\n",
       "    </tr>\n",
       "    <tr>\n",
       "      <th>88</th>\n",
       "      <td>2025-05</td>\n",
       "      <td>9.20</td>\n",
       "      <td>9.86</td>\n",
       "      <td>9.17</td>\n",
       "      <td>9.33</td>\n",
       "      <td>588882651.0</td>\n",
       "      <td>35.603</td>\n",
       "      <td>45.142</td>\n",
       "      <td>16.525</td>\n",
       "      <td>False</td>\n",
       "      <td>False</td>\n",
       "      <td>0.17</td>\n",
       "      <td>Up</td>\n",
       "    </tr>\n",
       "    <tr>\n",
       "      <th>89</th>\n",
       "      <td>2025-06</td>\n",
       "      <td>9.30</td>\n",
       "      <td>9.98</td>\n",
       "      <td>9.23</td>\n",
       "      <td>9.68</td>\n",
       "      <td>751834646.0</td>\n",
       "      <td>33.923</td>\n",
       "      <td>41.403</td>\n",
       "      <td>18.963</td>\n",
       "      <td>False</td>\n",
       "      <td>False</td>\n",
       "      <td>0.35</td>\n",
       "      <td>Up</td>\n",
       "    </tr>\n",
       "    <tr>\n",
       "      <th>90</th>\n",
       "      <td>2025-07</td>\n",
       "      <td>9.68</td>\n",
       "      <td>9.69</td>\n",
       "      <td>9.59</td>\n",
       "      <td>9.64</td>\n",
       "      <td>29137217.0</td>\n",
       "      <td>33.850</td>\n",
       "      <td>38.885</td>\n",
       "      <td>23.780</td>\n",
       "      <td>False</td>\n",
       "      <td>False</td>\n",
       "      <td>-0.04</td>\n",
       "      <td>Down</td>\n",
       "    </tr>\n",
       "  </tbody>\n",
       "</table>\n",
       "</div>"
      ],
      "text/plain": [
       "   year_month   open   high   low  close       volume       K       D       J  \\\n",
       "84    2025-01  10.50  10.56  9.33   9.74  764541606.0  58.575  56.977  61.771   \n",
       "85    2025-02   9.80  10.14  9.65   9.72  890701320.0  54.872  56.275  52.066   \n",
       "86    2025-03   9.72  10.10  9.40   9.44  884243424.0  50.653  54.401  43.157   \n",
       "87    2025-04   9.45   9.50  8.43   9.16  726493921.0  40.934  49.912  22.978   \n",
       "88    2025-05   9.20   9.86  9.17   9.33  588882651.0  35.603  45.142  16.525   \n",
       "89    2025-06   9.30   9.98  9.23   9.68  751834646.0  33.923  41.403  18.963   \n",
       "90    2025-07   9.68   9.69  9.59   9.64   29137217.0  33.850  38.885  23.780   \n",
       "\n",
       "    Golden_Cross  Dead_Cross  Price_Change Trend  \n",
       "84         False       False         -0.82  Down  \n",
       "85         False        True         -0.02  Down  \n",
       "86         False       False         -0.28  Down  \n",
       "87         False       False         -0.28  Down  \n",
       "88         False       False          0.17    Up  \n",
       "89         False       False          0.35    Up  \n",
       "90         False       False         -0.04  Down  "
      ]
     },
     "execution_count": 9,
     "metadata": {},
     "output_type": "execute_result"
    }
   ],
   "source": [
    "month_df = calculate.MACD.get_month_df(df)\n",
    "month_df = calculate.KDJ.calculate_kdj(month_df)\n",
    "month_df = calculate.KDJ.find_kdj_golden_cross(month_df)\n",
    "\n",
    "month_df.tail(7)"
   ]
  },
  {
   "cell_type": "code",
   "execution_count": 10,
   "metadata": {},
   "outputs": [
    {
     "data": {
      "text/plain": [
       "False"
      ]
     },
     "execution_count": 10,
     "metadata": {},
     "output_type": "execute_result"
    }
   ],
   "source": [
    "month_df[\"Golden_Cross\"].iloc[-1]"
   ]
  },
  {
   "cell_type": "code",
   "execution_count": 16,
   "metadata": {},
   "outputs": [],
   "source": [
    "import pickle\n",
    "# 全局加载 pickle 文件\n",
    "with open(\"./txt_lib/daily_df.pkl\", \"rb\") as f:\n",
    "    GLOBAL_STOCK_DATA = pickle.load(f)"
   ]
  },
  {
   "cell_type": "code",
   "execution_count": null,
   "metadata": {},
   "outputs": [],
   "source": [
    "stock_code = \"sh603022\"\n",
    "data = GLOBAL_STOCK_DATA\n",
    "df = pd.DataFrame(data[stock_code])\n",
    "# 转换为月线数据\n",
    "monthly_df = calculate.MACD.get_month_df(df)\n",
    "\n",
    "# 计算月MACD\n",
    "monthly_df = calculate.MACD.calculate_macd(monthly_df)"
   ]
  },
  {
   "cell_type": "code",
   "execution_count": null,
   "metadata": {},
   "outputs": [],
   "source": []
  }
 ],
 "metadata": {
  "kernelspec": {
   "display_name": "Python 3",
   "language": "python",
   "name": "python3"
  },
  "language_info": {
   "codemirror_mode": {
    "name": "ipython",
    "version": 3
   },
   "file_extension": ".py",
   "mimetype": "text/x-python",
   "name": "python",
   "nbconvert_exporter": "python",
   "pygments_lexer": "ipython3",
   "version": "3.10.11"
  }
 },
 "nbformat": 4,
 "nbformat_minor": 2
}
